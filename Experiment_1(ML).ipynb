{
  "nbformat": 4,
  "nbformat_minor": 0,
  "metadata": {
    "colab": {
      "provenance": []
    },
    "kernelspec": {
      "name": "python3",
      "display_name": "Python 3"
    },
    "language_info": {
      "name": "python"
    }
  },
  "cells": [
    {
      "cell_type": "markdown",
      "source": [
        "Experiment 1. Experiment with following pandas operation through python commands\n"
      ],
      "metadata": {
        "id": "_f1V3UNcl14P"
      }
    },
    {
      "cell_type": "markdown",
      "source": [
        "1.1 Introduction to pandas"
      ],
      "metadata": {
        "id": "_F21MqddofTG"
      }
    },
    {
      "cell_type": "code",
      "execution_count": null,
      "metadata": {
        "colab": {
          "base_uri": "https://localhost:8080/"
        },
        "id": "9RqbKAXLlyEA",
        "outputId": "3c2651ac-7766-4080-f608-75b50eb913fc"
      },
      "outputs": [
        {
          "output_type": "stream",
          "name": "stdout",
          "text": [
            "0    1\n",
            "1    2\n",
            "2    3\n",
            "3    4\n",
            "dtype: int64\n"
          ]
        }
      ],
      "source": [
        "# import pandas as pd\n",
        "import pandas as pd\n",
        "\n",
        "# simple array\n",
        "data = [1, 2, 3, 4]\n",
        "\n",
        "ser = pd.Series(data)\n",
        "print(ser)"
      ]
    },
    {
      "cell_type": "code",
      "source": [
        "import pandas as pd\n",
        "import numpy as np\n",
        "# simple array\n",
        "data = np.array(['g', 'e', 'e', 'k', 's'])\n",
        "ser = pd.Series(data)\n",
        "print(ser)"
      ],
      "metadata": {
        "colab": {
          "base_uri": "https://localhost:8080/"
        },
        "id": "wR35TXm3oxRq",
        "outputId": "2479157f-1484-4682-ddcf-f74f3be74c75"
      },
      "execution_count": null,
      "outputs": [
        {
          "output_type": "stream",
          "name": "stdout",
          "text": [
            "0    g\n",
            "1    e\n",
            "2    e\n",
            "3    k\n",
            "4    s\n",
            "dtype: object\n"
          ]
        }
      ]
    },
    {
      "cell_type": "code",
      "source": [
        "import pandas as pd\n",
        "\n",
        "list = ['g', 'e', 'e', 'k', 's']\n",
        "\n",
        "# create series form a list\n",
        "ser = pd.Series(list)\n",
        "print(ser)"
      ],
      "metadata": {
        "colab": {
          "base_uri": "https://localhost:8080/"
        },
        "id": "CFgV1ksXsKi-",
        "outputId": "6972716f-69f7-41ae-99d5-09e88d6ce19f"
      },
      "execution_count": null,
      "outputs": [
        {
          "output_type": "stream",
          "name": "stdout",
          "text": [
            "0    g\n",
            "1    e\n",
            "2    e\n",
            "3    k\n",
            "4    s\n",
            "dtype: object\n"
          ]
        }
      ]
    },
    {
      "cell_type": "code",
      "source": [
        "import pandas as pd\n",
        "import numpy as np\n",
        "\n",
        "data = np.array(['g', 'e', 'e', 'k', 's'])\n",
        "ser = pd.Series(data, index =[10, 11, 12, 13, 14])\n",
        "print(ser)"
      ],
      "metadata": {
        "colab": {
          "base_uri": "https://localhost:8080/"
        },
        "id": "L9THvMuOspuq",
        "outputId": "b3e67dcd-a1f3-449a-cdde-d77b4ec1f762"
      },
      "execution_count": null,
      "outputs": [
        {
          "output_type": "stream",
          "name": "stdout",
          "text": [
            "10    g\n",
            "11    e\n",
            "12    e\n",
            "13    k\n",
            "14    s\n",
            "dtype: object\n"
          ]
        }
      ]
    },
    {
      "cell_type": "markdown",
      "source": [
        "Creating a pandas dataframe"
      ],
      "metadata": {
        "id": "g3M_4R_cl0TY"
      }
    },
    {
      "cell_type": "code",
      "source": [
        "import pandas as pd\n",
        "\n",
        "#calling dataframe constructor\n",
        "df = pd.DataFrame()\n",
        "print(df)"
      ],
      "metadata": {
        "colab": {
          "base_uri": "https://localhost:8080/"
        },
        "id": "HA681xYvtcDK",
        "outputId": "0b68fc9d-3d23-4417-804e-8c50df17305c"
      },
      "execution_count": null,
      "outputs": [
        {
          "output_type": "stream",
          "name": "stdout",
          "text": [
            "Empty DataFrame\n",
            "Columns: []\n",
            "Index: []\n"
          ]
        }
      ]
    },
    {
      "cell_type": "code",
      "source": [
        "import pandas as pd\n",
        "\n",
        "data = {'Name':['Tom', 'Nick', 'Krish', 'Jack'], 'Age':[20, 21, 19, 18]}\n",
        "df = pd.DataFrame(data)\n",
        "print(df)\n"
      ],
      "metadata": {
        "colab": {
          "base_uri": "https://localhost:8080/"
        },
        "id": "NkU4L4f5uweS",
        "outputId": "2f576b64-ccf6-43cd-b770-4191725c579a"
      },
      "execution_count": null,
      "outputs": [
        {
          "output_type": "stream",
          "name": "stdout",
          "text": [
            "    Name  Age\n",
            "0    Tom   20\n",
            "1   Nick   21\n",
            "2  Krish   19\n",
            "3   Jack   18\n"
          ]
        }
      ]
    },
    {
      "cell_type": "code",
      "source": [
        "import pandas as pd\n",
        "dict = {'Name':[\"Aparna\", \"Pankaj\", \"sudhir\", \"Geeku\"],\n",
        "\t\t'Degree': [\"MBA\", \"BCA\", \"M.Tech\", \"MBA\"],\n",
        "\t\t'Score':[90, 40, 80, 98]}\n",
        "df = pd.DataFrame(dict)\n",
        "print(df)\n"
      ],
      "metadata": {
        "colab": {
          "base_uri": "https://localhost:8080/"
        },
        "id": "NGqWD3iUvLxZ",
        "outputId": "6ea79f95-477b-48dd-99d1-5403eb313711"
      },
      "execution_count": null,
      "outputs": [
        {
          "output_type": "stream",
          "name": "stdout",
          "text": [
            "     Name  Degree  Score\n",
            "0  Aparna     MBA     90\n",
            "1  Pankaj     BCA     40\n",
            "2  sudhir  M.Tech     80\n",
            "3   Geeku     MBA     98\n"
          ]
        }
      ]
    },
    {
      "cell_type": "markdown",
      "source": [
        "1.2 Data Selection and Indexing"
      ],
      "metadata": {
        "id": "4yqX2KW3vkT-"
      }
    },
    {
      "cell_type": "code",
      "source": [
        "import pandas as pd\n",
        "\n",
        "dict = {'Name':[\"Aparna\", \"Pankaj\", \"sudhir\", \"Geeku\"],\n",
        "\t\t'Degree': [\"MBA\", \"BCA\", \"M.Tech\", \"MBA\"],\n",
        "\t\t'Score':[90, 40, 80, 98]}\n",
        "d=pd.DataFrame(dict)\n",
        "print(d.head())\n"
      ],
      "metadata": {
        "colab": {
          "base_uri": "https://localhost:8080/"
        },
        "id": "gQH9kxNyvpAp",
        "outputId": "dce425b6-2e2c-4999-bfb6-a93a48e9bd6c"
      },
      "execution_count": null,
      "outputs": [
        {
          "output_type": "stream",
          "name": "stdout",
          "text": [
            "     Name  Degree  Score\n",
            "0  Aparna     MBA     90\n",
            "1  Pankaj     BCA     40\n",
            "2  sudhir  M.Tech     80\n",
            "3   Geeku     MBA     98\n"
          ]
        }
      ]
    },
    {
      "cell_type": "code",
      "source": [
        "print(d.tail(3))\n"
      ],
      "metadata": {
        "colab": {
          "base_uri": "https://localhost:8080/"
        },
        "id": "3b96IdEuzKoN",
        "outputId": "c5d89e98-6bef-4012-b6ff-c0b539c0231e"
      },
      "execution_count": null,
      "outputs": [
        {
          "output_type": "stream",
          "name": "stdout",
          "text": [
            "     Name  Degree  Score\n",
            "1  Pankaj     BCA     40\n",
            "2  sudhir  M.Tech     80\n",
            "3   Geeku     MBA     98\n"
          ]
        }
      ]
    },
    {
      "cell_type": "code",
      "source": [
        "print(d.loc[1])"
      ],
      "metadata": {
        "colab": {
          "base_uri": "https://localhost:8080/"
        },
        "id": "G98zIFI-zbXi",
        "outputId": "7c11ba0b-2116-455e-fd86-c80a3816ba72"
      },
      "execution_count": null,
      "outputs": [
        {
          "output_type": "stream",
          "name": "stdout",
          "text": [
            "Name      Pankaj\n",
            "Degree       BCA\n",
            "Score         40\n",
            "Name: 1, dtype: object\n"
          ]
        }
      ]
    },
    {
      "cell_type": "code",
      "source": [
        "print(d.loc[:, [\"Name\",\"Score\"]])"
      ],
      "metadata": {
        "colab": {
          "base_uri": "https://localhost:8080/"
        },
        "id": "mb44j-0O11Bs",
        "outputId": "b413258f-26dc-4374-aff0-613ccceb52a2"
      },
      "execution_count": null,
      "outputs": [
        {
          "output_type": "stream",
          "name": "stdout",
          "text": [
            "     Name  Score\n",
            "0  Aparna     90\n",
            "1  Pankaj     40\n",
            "2  sudhir     80\n",
            "3   Geeku     98\n"
          ]
        }
      ]
    },
    {
      "cell_type": "code",
      "source": [
        "print(d.iloc[2])\n"
      ],
      "metadata": {
        "colab": {
          "base_uri": "https://localhost:8080/"
        },
        "id": "2DaeysB-2MmB",
        "outputId": "63ecb3b3-1a3f-4cdd-fe6d-a12d276e0f85"
      },
      "execution_count": null,
      "outputs": [
        {
          "output_type": "stream",
          "name": "stdout",
          "text": [
            "Name      sudhir\n",
            "Degree    M.Tech\n",
            "Score         80\n",
            "Name: 2, dtype: object\n"
          ]
        }
      ]
    },
    {
      "cell_type": "code",
      "source": [
        "print(d.iloc[:,2])"
      ],
      "metadata": {
        "colab": {
          "base_uri": "https://localhost:8080/"
        },
        "id": "Tos92ToI2-Lq",
        "outputId": "b21cfb29-aff4-45a9-d25a-97d86a0275ac"
      },
      "execution_count": null,
      "outputs": [
        {
          "output_type": "stream",
          "name": "stdout",
          "text": [
            "0    90\n",
            "1    40\n",
            "2    80\n",
            "3    98\n",
            "Name: Score, dtype: int64\n"
          ]
        }
      ]
    },
    {
      "cell_type": "markdown",
      "source": [
        "1.3 Data Cleaning and Preprocessing"
      ],
      "metadata": {
        "id": "2aE1MR9k3zVp"
      }
    },
    {
      "cell_type": "code",
      "source": [
        "data = {\n",
        "    'Name': ['Alice', 'Bob', 'Charlie', None, 'Eve'],\n",
        "    'Age': [25, None, 30, 22, None],\n",
        "    'City': ['New York', None, 'San Francisco', 'Los Angeles', 'Austin']\n",
        "}\n",
        "\n",
        "df = pd.DataFrame(data)\n",
        "print(\"Original DataFrame:\")\n",
        "print(df)\n"
      ],
      "metadata": {
        "colab": {
          "base_uri": "https://localhost:8080/"
        },
        "id": "q77u9e9o37NG",
        "outputId": "90a19eaf-e1b7-40d8-8e21-f619bdef40c9"
      },
      "execution_count": null,
      "outputs": [
        {
          "output_type": "stream",
          "name": "stdout",
          "text": [
            "Original DataFrame:\n",
            "      Name   Age           City\n",
            "0    Alice  25.0       New York\n",
            "1      Bob   NaN           None\n",
            "2  Charlie  30.0  San Francisco\n",
            "3     None  22.0    Los Angeles\n",
            "4      Eve   NaN         Austin\n"
          ]
        }
      ]
    },
    {
      "cell_type": "markdown",
      "source": [
        "Pandas has a method .isna() (or .isnull()) to detect missing values."
      ],
      "metadata": {
        "id": "xuBDn_aF6SQ9"
      }
    },
    {
      "cell_type": "code",
      "source": [
        "print(\"\\nIdentifying missing values:\")\n",
        "print(df.isna())\n"
      ],
      "metadata": {
        "colab": {
          "base_uri": "https://localhost:8080/"
        },
        "id": "8-eWIr7c6T8l",
        "outputId": "d9d5e50e-0cd5-4cc1-cedd-f503fbc94f03"
      },
      "execution_count": null,
      "outputs": [
        {
          "output_type": "stream",
          "name": "stdout",
          "text": [
            "\n",
            "Identifying missing values:\n",
            "    Name    Age   City\n",
            "0  False  False  False\n",
            "1  False   True   True\n",
            "2  False  False  False\n",
            "3   True  False  False\n",
            "4  False   True  False\n"
          ]
        }
      ]
    },
    {
      "cell_type": "markdown",
      "source": [
        "You can use the .fillna() method to fill missing values with a specific value (like 0, a string, or the mean, etc.)."
      ],
      "metadata": {
        "id": "2_ecTvaH7gPv"
      }
    },
    {
      "cell_type": "code",
      "source": [
        "df_filled = df.fillna({'Age': 28, 'City': 'Unknown'})\n",
        "print(\"\\nDataFrame after filling missing values:\")\n",
        "print(df_filled)\n",
        "df['Age'] = df['Age'].fillna(df['Age'].mean())\n",
        "print(\"\\nDataFrame after filling Age with the mean value:\")\n",
        "print(df)\n"
      ],
      "metadata": {
        "colab": {
          "base_uri": "https://localhost:8080/"
        },
        "id": "yNqwZTed7iy2",
        "outputId": "8583e1d1-5ba9-4e3b-b476-b310f7781378"
      },
      "execution_count": null,
      "outputs": [
        {
          "output_type": "stream",
          "name": "stdout",
          "text": [
            "\n",
            "DataFrame after filling missing values:\n",
            "      Name   Age           City\n",
            "0    Alice  25.0       New York\n",
            "1      Bob  28.0        Unknown\n",
            "2  Charlie  30.0  San Francisco\n",
            "3     None  22.0    Los Angeles\n",
            "4      Eve  28.0         Austin\n",
            "\n",
            "DataFrame after filling Age with the mean value:\n",
            "      Name        Age           City\n",
            "0    Alice  25.000000       New York\n",
            "1      Bob  25.666667           None\n",
            "2  Charlie  30.000000  San Francisco\n",
            "3     None  22.000000    Los Angeles\n",
            "4      Eve  25.666667         Austin\n"
          ]
        }
      ]
    },
    {
      "cell_type": "markdown",
      "source": [
        "Forward fill (fill with previous value):"
      ],
      "metadata": {
        "id": "1-BiCfVQ72IK"
      }
    },
    {
      "cell_type": "code",
      "source": [
        "df_ffill = df.fillna(method='ffill')\n",
        "print(\"\\nDataFrame after forward filling missing values:\")\n",
        "print(df_ffill)\n"
      ],
      "metadata": {
        "colab": {
          "base_uri": "https://localhost:8080/"
        },
        "id": "YJi1fWap73Wc",
        "outputId": "66a24f10-622f-48f9-8fc4-314652b12636"
      },
      "execution_count": null,
      "outputs": [
        {
          "output_type": "stream",
          "name": "stdout",
          "text": [
            "\n",
            "DataFrame after forward filling missing values:\n",
            "      Name        Age           City\n",
            "0    Alice  25.000000       New York\n",
            "1      Bob  25.666667       New York\n",
            "2  Charlie  30.000000  San Francisco\n",
            "3  Charlie  22.000000    Los Angeles\n",
            "4      Eve  25.666667         Austin\n"
          ]
        },
        {
          "output_type": "stream",
          "name": "stderr",
          "text": [
            "<ipython-input-50-718b3aea65cd>:1: FutureWarning: DataFrame.fillna with 'method' is deprecated and will raise in a future version. Use obj.ffill() or obj.bfill() instead.\n",
            "  df_ffill = df.fillna(method='ffill')\n"
          ]
        }
      ]
    },
    {
      "cell_type": "markdown",
      "source": [
        "Backward fill (fill with next value):"
      ],
      "metadata": {
        "id": "Im8f4ct4764k"
      }
    },
    {
      "cell_type": "code",
      "source": [
        "df_bfill = df.fillna(method='bfill')\n",
        "print(\"\\nDataFrame after backward filling missing values:\")\n",
        "print(df_bfill)\n"
      ],
      "metadata": {
        "colab": {
          "base_uri": "https://localhost:8080/"
        },
        "id": "__wPUzYf7-o_",
        "outputId": "8fc7fe16-43bf-41db-a66c-44a8de5fc423"
      },
      "execution_count": null,
      "outputs": [
        {
          "output_type": "stream",
          "name": "stdout",
          "text": [
            "\n",
            "DataFrame after backward filling missing values:\n",
            "      Name        Age           City\n",
            "0    Alice  25.000000       New York\n",
            "1      Bob  25.666667  San Francisco\n",
            "2  Charlie  30.000000  San Francisco\n",
            "3      Eve  22.000000    Los Angeles\n",
            "4      Eve  25.666667         Austin\n"
          ]
        },
        {
          "output_type": "stream",
          "name": "stderr",
          "text": [
            "<ipython-input-51-9fc58df5e6a9>:1: FutureWarning: DataFrame.fillna with 'method' is deprecated and will raise in a future version. Use obj.ffill() or obj.bfill() instead.\n",
            "  df_bfill = df.fillna(method='bfill')\n"
          ]
        }
      ]
    },
    {
      "cell_type": "markdown",
      "source": [
        "Dropping Rows with Missing Values:\n",
        "You can use .dropna() to drop rows that contain missing values.\n",
        "\n",
        "Drop rows with any missing values:"
      ],
      "metadata": {
        "id": "S_X9MvSy8Dsx"
      }
    },
    {
      "cell_type": "code",
      "source": [
        "df_dropped = df.dropna()\n",
        "print(\"\\nDataFrame after dropping rows with any missing values:\")\n",
        "print(df_dropped)\n"
      ],
      "metadata": {
        "colab": {
          "base_uri": "https://localhost:8080/"
        },
        "id": "AdYPyEkq8H8k",
        "outputId": "210b4731-6976-41ed-b4fa-c983f0a64d2c"
      },
      "execution_count": null,
      "outputs": [
        {
          "output_type": "stream",
          "name": "stdout",
          "text": [
            "\n",
            "DataFrame after dropping rows with any missing values:\n",
            "      Name        Age           City\n",
            "0    Alice  25.000000       New York\n",
            "2  Charlie  30.000000  San Francisco\n",
            "4      Eve  25.666667         Austin\n"
          ]
        }
      ]
    },
    {
      "cell_type": "markdown",
      "source": [
        "Drop rows where a specific column has missing values:"
      ],
      "metadata": {
        "id": "xeEKHy3h8ORE"
      }
    },
    {
      "cell_type": "code",
      "source": [
        "df_dropped_column = df.dropna(subset=['Age'])\n",
        "print(\"\\nDataFrame after dropping rows where 'Age' is missing:\")\n",
        "print(df_dropped_column)\n"
      ],
      "metadata": {
        "colab": {
          "base_uri": "https://localhost:8080/"
        },
        "id": "DAI6QJnk8Q4Z",
        "outputId": "374c4d23-cf4a-4faa-f40c-8fb03c617904"
      },
      "execution_count": null,
      "outputs": [
        {
          "output_type": "stream",
          "name": "stdout",
          "text": [
            "\n",
            "DataFrame after dropping rows where 'Age' is missing:\n",
            "      Name        Age           City\n",
            "0    Alice  25.000000       New York\n",
            "1      Bob  25.666667           None\n",
            "2  Charlie  30.000000  San Francisco\n",
            "3     None  22.000000    Los Angeles\n",
            "4      Eve  25.666667         Austin\n"
          ]
        }
      ]
    },
    {
      "cell_type": "markdown",
      "source": [
        " Checking for Missing Values:"
      ],
      "metadata": {
        "id": "12C6ThOB8Yh4"
      }
    },
    {
      "cell_type": "code",
      "source": [
        "print(\"\\nCheck for any missing values:\")\n",
        "print(df.isna().any())"
      ],
      "metadata": {
        "colab": {
          "base_uri": "https://localhost:8080/"
        },
        "id": "yUQXXMeY8eAv",
        "outputId": "a5abe6c4-86c3-4860-9cda-e22c31b262f1"
      },
      "execution_count": null,
      "outputs": [
        {
          "output_type": "stream",
          "name": "stdout",
          "text": [
            "\n",
            "Check for any missing values:\n",
            "Name     True\n",
            "Age     False\n",
            "City     True\n",
            "dtype: bool\n"
          ]
        }
      ]
    },
    {
      "cell_type": "markdown",
      "source": [
        "1.4 Aggregation and Grouping"
      ],
      "metadata": {
        "id": "o2-IijAX9VzB"
      }
    },
    {
      "cell_type": "code",
      "source": [
        "import pandas as pd\n",
        "data = {\n",
        "    'Product': ['A', 'B', 'A', 'B', 'C', 'A', 'C'],\n",
        "    'Region': ['East', 'West', 'East', 'West', 'East', 'West', 'East'],\n",
        "    'Salesperson': ['John', 'Paul', 'John', 'Paul', 'George', 'Ringo', 'George'],\n",
        "    'Sales': [250, 300, 150, 200, 450, 500, 550]\n",
        "}\n",
        "\n",
        "df = pd.DataFrame(data)\n",
        "\n",
        "print(\"Original DataFrame:\")\n",
        "print(df)\n"
      ],
      "metadata": {
        "colab": {
          "base_uri": "https://localhost:8080/"
        },
        "id": "nZMB35AR-dDj",
        "outputId": "b64d165d-a83f-4744-ee86-e48d5e0aa88d"
      },
      "execution_count": null,
      "outputs": [
        {
          "output_type": "stream",
          "name": "stdout",
          "text": [
            "Original DataFrame:\n",
            "  Product Region Salesperson  Sales\n",
            "0       A   East        John    250\n",
            "1       B   West        Paul    300\n",
            "2       A   East        John    150\n",
            "3       B   West        Paul    200\n",
            "4       C   East      George    450\n",
            "5       A   West       Ringo    500\n",
            "6       C   East      George    550\n"
          ]
        }
      ]
    },
    {
      "cell_type": "markdown",
      "source": [
        "Aggregation\n",
        "1. Grouping Data and Aggregating:\n",
        "You can use the .groupby() method to group data based on one or more columns, and then apply aggregation functions such as sum(), mean(), count(), min(), max(), etc.\n",
        "\n",
        "Group by Product and calculate the total Sales per product:"
      ],
      "metadata": {
        "id": "-CEpbvwj-nd6"
      }
    },
    {
      "cell_type": "code",
      "source": [
        "grouped_product_sales = df.groupby('Product')['Sales'].sum()\n",
        "print(\"\\nTotal Sales per Product:\")\n",
        "print(grouped_product_sales)\n"
      ],
      "metadata": {
        "colab": {
          "base_uri": "https://localhost:8080/"
        },
        "id": "UyGirwMY-pbF",
        "outputId": "5ec8977f-f7c7-48dc-b94c-131650cd5aeb"
      },
      "execution_count": null,
      "outputs": [
        {
          "output_type": "stream",
          "name": "stdout",
          "text": [
            "\n",
            "Total Sales per Product:\n",
            "Product\n",
            "A     900\n",
            "B     500\n",
            "C    1000\n",
            "Name: Sales, dtype: int64\n"
          ]
        }
      ]
    },
    {
      "cell_type": "markdown",
      "source": [
        "Group by Region and Salesperson, then calculate the average Sales:\n",
        "\n"
      ],
      "metadata": {
        "id": "k0hHosPz-vY-"
      }
    },
    {
      "cell_type": "code",
      "source": [
        "grouped_region_sales = df.groupby(['Region', 'Salesperson'])['Sales'].mean()\n",
        "print(\"\\nAverage Sales by Region and Salesperson:\")\n",
        "print(grouped_region_sales)\n"
      ],
      "metadata": {
        "colab": {
          "base_uri": "https://localhost:8080/"
        },
        "id": "9uLBvwdM-1Hw",
        "outputId": "a89f3027-9a92-4cb4-b823-051acd1e5b5a"
      },
      "execution_count": null,
      "outputs": [
        {
          "output_type": "stream",
          "name": "stdout",
          "text": [
            "\n",
            "Average Sales by Region and Salesperson:\n",
            "Region  Salesperson\n",
            "East    George         500.0\n",
            "        John           200.0\n",
            "West    Paul           250.0\n",
            "        Ringo          500.0\n",
            "Name: Sales, dtype: float64\n"
          ]
        }
      ]
    },
    {
      "cell_type": "markdown",
      "source": [
        "Multiple Aggregation Functions:\n",
        "You can apply multiple aggregation functions to one or more columns at the same time using .agg().\n",
        "\n",
        "\n"
      ],
      "metadata": {
        "id": "Wp4BTKV7-5Gn"
      }
    },
    {
      "cell_type": "code",
      "source": [
        "aggregated_sales = df.groupby('Product')['Sales'].agg(['sum', 'mean', 'max'])\n",
        "print(\"\\nSales Aggregation (sum, mean, max) per Product:\")\n",
        "print(aggregated_sales)\n"
      ],
      "metadata": {
        "colab": {
          "base_uri": "https://localhost:8080/"
        },
        "id": "24xfyiFR--tK",
        "outputId": "9a4ff8d9-cd09-47d6-a077-20770e7d1190"
      },
      "execution_count": null,
      "outputs": [
        {
          "output_type": "stream",
          "name": "stdout",
          "text": [
            "\n",
            "Sales Aggregation (sum, mean, max) per Product:\n",
            "          sum   mean  max\n",
            "Product                  \n",
            "A         900  300.0  500\n",
            "B         500  250.0  300\n",
            "C        1000  500.0  550\n"
          ]
        }
      ]
    },
    {
      "cell_type": "markdown",
      "source": [
        "Applying Custom Functions:\n",
        "You can also apply custom aggregation functions using .agg() or .apply().\n",
        "\n",
        "Applying a custom function to calculate a range (max - min) for Sales per Product:"
      ],
      "metadata": {
        "id": "7Mmy87o0_FIO"
      }
    },
    {
      "cell_type": "code",
      "source": [
        "sales_range = df.groupby('Product')['Sales'].agg(lambda x: x.max() - x.min())\n",
        "print(\"\\nRange of Sales per Product:\")\n",
        "print(sales_range)\n"
      ],
      "metadata": {
        "colab": {
          "base_uri": "https://localhost:8080/"
        },
        "id": "dupet_k2_HJk",
        "outputId": "3d19202f-2c7f-4f83-895c-f9d8ee0168a6"
      },
      "execution_count": null,
      "outputs": [
        {
          "output_type": "stream",
          "name": "stdout",
          "text": [
            "\n",
            "Range of Sales per Product:\n",
            "Product\n",
            "A    350\n",
            "B    100\n",
            "C    100\n",
            "Name: Sales, dtype: int64\n"
          ]
        }
      ]
    },
    {
      "cell_type": "markdown",
      "source": [
        "Resetting the Index:\n",
        "When performing aggregation, the grouped columns become the index. If you want to convert them back into regular columns, you can use .reset_index()."
      ],
      "metadata": {
        "id": "JN0H0Z60_TL2"
      }
    },
    {
      "cell_type": "code",
      "source": [
        "reset_grouped_product_sales = grouped_product_sales.reset_index()\n",
        "print(\"\\nReset Index for Grouped Product Sales:\")\n",
        "print(reset_grouped_product_sales)\n"
      ],
      "metadata": {
        "colab": {
          "base_uri": "https://localhost:8080/"
        },
        "id": "o5_BV-rV_UhH",
        "outputId": "7e3b8c7e-45bc-43da-dcca-34b6b01749bf"
      },
      "execution_count": null,
      "outputs": [
        {
          "output_type": "stream",
          "name": "stdout",
          "text": [
            "\n",
            "Reset Index for Grouped Product Sales:\n",
            "  Product  Sales\n",
            "0       A    900\n",
            "1       B    500\n",
            "2       C   1000\n"
          ]
        }
      ]
    },
    {
      "cell_type": "markdown",
      "source": [
        "Filtering Data After Aggregation:\n",
        "You can also filter the results after performing aggregation. For example, let's filter out products where the total sales are less than 500."
      ],
      "metadata": {
        "id": "V2dT5WBK_Z2r"
      }
    },
    {
      "cell_type": "code",
      "source": [
        "filtered_sales = grouped_product_sales[grouped_product_sales > 500]\n",
        "print(\"\\nProducts with Total Sales Greater than 500:\")\n",
        "print(filtered_sales)\n"
      ],
      "metadata": {
        "colab": {
          "base_uri": "https://localhost:8080/"
        },
        "id": "dZaiSl7u_bCT",
        "outputId": "244e579a-9fe6-4c68-9845-c1019b92d5ab"
      },
      "execution_count": null,
      "outputs": [
        {
          "output_type": "stream",
          "name": "stdout",
          "text": [
            "\n",
            "Products with Total Sales Greater than 500:\n",
            "Product\n",
            "A     900\n",
            "C    1000\n",
            "Name: Sales, dtype: int64\n"
          ]
        }
      ]
    },
    {
      "cell_type": "markdown",
      "source": [
        "1.5 Data Merging and Joining"
      ],
      "metadata": {
        "id": "5xXFsXFe_1yD"
      }
    },
    {
      "cell_type": "code",
      "source": [
        "import pandas as pd\n"
      ],
      "metadata": {
        "id": "6xnAWBrg_3sb"
      },
      "execution_count": null,
      "outputs": []
    },
    {
      "cell_type": "code",
      "source": [
        "# Creating the first DataFrame (df1)\n",
        "data1 = {\n",
        "    'Employee_ID': [1, 2, 3, 4],\n",
        "    'Name': ['John', 'Alice', 'Bob', 'Charlie'],\n",
        "    'Department': ['HR', 'Finance', 'Engineering', 'Marketing']\n",
        "}\n",
        "df1 = pd.DataFrame(data1)\n",
        "\n",
        "# Creating the second DataFrame (df2)\n",
        "data2 = {\n",
        "    'Employee_ID': [1, 2, 5, 6],\n",
        "    'Salary': [50000, 60000, 45000, 70000]\n",
        "}\n",
        "df2 = pd.DataFrame(data2)\n",
        "\n",
        "print(\"DataFrame 1:\")\n",
        "print(df1)\n",
        "\n",
        "print(\"\\nDataFrame 2:\")\n",
        "print(df2)\n"
      ],
      "metadata": {
        "colab": {
          "base_uri": "https://localhost:8080/"
        },
        "id": "W4oO3qTxAOVT",
        "outputId": "b6bac77f-8ecf-422d-9470-94cf6cbef891"
      },
      "execution_count": null,
      "outputs": [
        {
          "output_type": "stream",
          "name": "stdout",
          "text": [
            "DataFrame 1:\n",
            "   Employee_ID     Name   Department\n",
            "0            1     John           HR\n",
            "1            2    Alice      Finance\n",
            "2            3      Bob  Engineering\n",
            "3            4  Charlie    Marketing\n",
            "\n",
            "DataFrame 2:\n",
            "   Employee_ID  Salary\n",
            "0            1   50000\n",
            "1            2   60000\n",
            "2            5   45000\n",
            "3            6   70000\n"
          ]
        }
      ]
    },
    {
      "cell_type": "markdown",
      "source": [
        "Merging DataFrames\n",
        "The merge() function is used to combine DataFrames on a common column (or index). It works similarly to SQL joins.\n",
        "\n",
        "1. Inner Join (Default Merge)\n",
        "By default, .merge() performs an inner join, meaning it only includes rows with matching values in both DataFrames."
      ],
      "metadata": {
        "id": "mvZw14AyBukW"
      }
    },
    {
      "cell_type": "code",
      "source": [
        "merged_df_inner = pd.merge(df1, df2, on='Employee_ID', how='inner')\n",
        "print(\"\\nInner Join (Merged DataFrame):\")\n",
        "print(merged_df_inner)\n"
      ],
      "metadata": {
        "colab": {
          "base_uri": "https://localhost:8080/"
        },
        "id": "hPyCCVTuBvmc",
        "outputId": "006bcc95-8035-43f5-bfe8-c5af7fcbe603"
      },
      "execution_count": null,
      "outputs": [
        {
          "output_type": "stream",
          "name": "stdout",
          "text": [
            "\n",
            "Inner Join (Merged DataFrame):\n",
            "   Employee_ID   Name Department  Salary\n",
            "0            1   John         HR   50000\n",
            "1            2  Alice    Finance   60000\n"
          ]
        }
      ]
    },
    {
      "cell_type": "markdown",
      "source": [
        "Left Join\n",
        "In a left join, all rows from the left DataFrame (df1) are included, along with matching rows from the right DataFrame (df2). If there is no match, NaN will be used."
      ],
      "metadata": {
        "id": "4oeDYY3-B8T4"
      }
    },
    {
      "cell_type": "code",
      "source": [
        "merged_df_left = pd.merge(df1, df2, on='Employee_ID', how='left')\n",
        "print(\"\\nLeft Join (Merged DataFrame):\")\n",
        "print(merged_df_left)\n"
      ],
      "metadata": {
        "colab": {
          "base_uri": "https://localhost:8080/"
        },
        "id": "jFJtoiDGB9Sb",
        "outputId": "da1ff08c-7843-4d65-c7f8-71fd37211231"
      },
      "execution_count": null,
      "outputs": [
        {
          "output_type": "stream",
          "name": "stdout",
          "text": [
            "\n",
            "Left Join (Merged DataFrame):\n",
            "   Employee_ID     Name   Department   Salary\n",
            "0            1     John           HR  50000.0\n",
            "1            2    Alice      Finance  60000.0\n",
            "2            3      Bob  Engineering      NaN\n",
            "3            4  Charlie    Marketing      NaN\n"
          ]
        }
      ]
    },
    {
      "cell_type": "markdown",
      "source": [
        "Right Join\n",
        "A right join is similar to the left join, but it keeps all rows from the right DataFrame (df2) and adds matching rows from the left DataFrame (df1).\n",
        "\n",
        "python\n",
        "Copy\n"
      ],
      "metadata": {
        "id": "jEQWcZP3CDcB"
      }
    },
    {
      "cell_type": "code",
      "source": [
        "merged_df_right = pd.merge(df1, df2, on='Employee_ID', how='right')\n",
        "print(\"\\nRight Join (Merged DataFrame):\")\n",
        "print(merged_df_right)\n"
      ],
      "metadata": {
        "colab": {
          "base_uri": "https://localhost:8080/"
        },
        "id": "b843TlrUCEvD",
        "outputId": "90cbb8d7-84be-4628-9c61-5c6e914afa47"
      },
      "execution_count": null,
      "outputs": [
        {
          "output_type": "stream",
          "name": "stdout",
          "text": [
            "\n",
            "Right Join (Merged DataFrame):\n",
            "   Employee_ID   Name Department  Salary\n",
            "0            1   John         HR   50000\n",
            "1            2  Alice    Finance   60000\n",
            "2            5    NaN        NaN   45000\n",
            "3            6    NaN        NaN   70000\n"
          ]
        }
      ]
    },
    {
      "cell_type": "markdown",
      "source": [
        " Outer Join\n",
        "An outer join includes all rows from both DataFrames. Where there is no match, NaN will be inserted."
      ],
      "metadata": {
        "id": "gy59xUiUCJ5N"
      }
    },
    {
      "cell_type": "code",
      "source": [
        "merged_df_outer = pd.merge(df1, df2, on='Employee_ID', how='outer')\n",
        "print(\"\\nOuter Join (Merged DataFrame):\")\n",
        "print(merged_df_outer)\n"
      ],
      "metadata": {
        "colab": {
          "base_uri": "https://localhost:8080/"
        },
        "id": "hsn9_km1CLEc",
        "outputId": "e43fe8e8-f651-4ead-ab9f-bb6ab3bda52d"
      },
      "execution_count": null,
      "outputs": [
        {
          "output_type": "stream",
          "name": "stdout",
          "text": [
            "\n",
            "Outer Join (Merged DataFrame):\n",
            "   Employee_ID     Name   Department   Salary\n",
            "0            1     John           HR  50000.0\n",
            "1            2    Alice      Finance  60000.0\n",
            "2            3      Bob  Engineering      NaN\n",
            "3            4  Charlie    Marketing      NaN\n",
            "4            5      NaN          NaN  45000.0\n",
            "5            6      NaN          NaN  70000.0\n"
          ]
        }
      ]
    },
    {
      "cell_type": "markdown",
      "source": [
        "Merge on Multiple Columns\n",
        "If the columns to merge on are not the same in both DataFrames, you can specify different column names using the left_on and right_on parameters."
      ],
      "metadata": {
        "id": "L2FwGBNsCQ77"
      }
    },
    {
      "cell_type": "code",
      "source": [
        "# Create a new DataFrame for this example\n",
        "data3 = {\n",
        "    'Department': ['HR', 'Finance', 'Engineering', 'Marketing'],\n",
        "    'Manager': ['Tom', 'Jerry', 'David', 'Sophie']\n",
        "}\n",
        "df3 = pd.DataFrame(data3)\n",
        "\n",
        "# Merge df1 and df3 on the 'Department' column\n",
        "merged_df_multiple = pd.merge(df1, df3, on='Department', how='inner')\n",
        "print(\"\\nMerge on Multiple Columns (Department):\")\n",
        "print(merged_df_multiple)\n"
      ],
      "metadata": {
        "colab": {
          "base_uri": "https://localhost:8080/"
        },
        "id": "ecJl6XKxCRzX",
        "outputId": "10782dc7-e668-416a-a5a3-d467452304d7"
      },
      "execution_count": null,
      "outputs": [
        {
          "output_type": "stream",
          "name": "stdout",
          "text": [
            "\n",
            "Merge on Multiple Columns (Department):\n",
            "   Employee_ID     Name   Department Manager\n",
            "0            1     John           HR     Tom\n",
            "1            2    Alice      Finance   Jerry\n",
            "2            3      Bob  Engineering   David\n",
            "3            4  Charlie    Marketing  Sophie\n"
          ]
        }
      ]
    },
    {
      "cell_type": "markdown",
      "source": [
        "Joining DataFrames\n",
        "\n",
        "The join() function is another way to merge DataFrames. It is mainly used to join on the index or columns when the index of one DataFrame is aligned with the index of the other DataFrame.\n",
        "\n",
        "1. Simple Join\n",
        "You can join two DataFrames based on the index. Here's an example:"
      ],
      "metadata": {
        "id": "Ef2o4oGqCg4T"
      }
    },
    {
      "cell_type": "code",
      "source": [
        "# Set 'Employee_ID' as the index for df1\n",
        "df1.set_index('Employee_ID', inplace=True)\n",
        "\n",
        "# Set 'Employee_ID' as the index for df2\n",
        "df2.set_index('Employee_ID', inplace=True)\n",
        "\n",
        "# Perform the join on index\n",
        "joined_df = df1.join(df2, how='inner')\n",
        "print(\"\\nJoin DataFrames on Index:\")\n",
        "print(joined_df)\n"
      ],
      "metadata": {
        "colab": {
          "base_uri": "https://localhost:8080/"
        },
        "id": "rEXnf6I3Cj_j",
        "outputId": "5c929c53-0873-47d4-a536-45f3a5875b50"
      },
      "execution_count": null,
      "outputs": [
        {
          "output_type": "stream",
          "name": "stdout",
          "text": [
            "\n",
            "Join DataFrames on Index:\n",
            "              Name Department  Salary\n",
            "Employee_ID                          \n",
            "1             John         HR   50000\n",
            "2            Alice    Finance   60000\n"
          ]
        }
      ]
    },
    {
      "cell_type": "markdown",
      "source": [
        "Left Join Using join()\n",
        "\n",
        "You can also specify the type of join (left, right, etc.) when using the .join() method."
      ],
      "metadata": {
        "id": "WOEr0azeCxi9"
      }
    },
    {
      "cell_type": "code",
      "source": [
        "# Left join on index\n",
        "joined_df_left = df1.join(df2, how='left')\n",
        "print(\"\\nLeft Join Using join() Method:\")\n",
        "print(joined_df_left)\n"
      ],
      "metadata": {
        "colab": {
          "base_uri": "https://localhost:8080/"
        },
        "id": "m2NEvKulCyvv",
        "outputId": "66b3dcfb-358f-4179-ff67-e71a8a1a815f"
      },
      "execution_count": null,
      "outputs": [
        {
          "output_type": "stream",
          "name": "stdout",
          "text": [
            "\n",
            "Left Join Using join() Method:\n",
            "                Name   Department   Salary\n",
            "Employee_ID                               \n",
            "1               John           HR  50000.0\n",
            "2              Alice      Finance  60000.0\n",
            "3                Bob  Engineering      NaN\n",
            "4            Charlie    Marketing      NaN\n"
          ]
        }
      ]
    },
    {
      "cell_type": "markdown",
      "source": [
        "Join with Multiple Columns\n",
        "\n",
        "If you need to join on multiple columns, you can reset the index and then use .join()."
      ],
      "metadata": {
        "id": "ZNJr6fHNC6jo"
      }
    },
    {
      "cell_type": "code",
      "source": [
        "# Reset the index to join on columns (if needed)\n",
        "df1_reset = df1.reset_index()\n",
        "df2_reset = df2.reset_index()\n",
        "\n",
        "# Perform a join on a column (Employee_ID)\n",
        "joined_df_multiple = df1_reset.join(df2_reset.set_index('Employee_ID'), on='Employee_ID', how='inner')\n",
        "print(\"\\nJoin on Multiple Columns (Employee_ID):\")\n",
        "print(joined_df_multiple)\n"
      ],
      "metadata": {
        "colab": {
          "base_uri": "https://localhost:8080/"
        },
        "id": "ZmvbyAs4C8VZ",
        "outputId": "ebb577d8-f672-4b3c-c5fd-b48a60e2315e"
      },
      "execution_count": null,
      "outputs": [
        {
          "output_type": "stream",
          "name": "stdout",
          "text": [
            "\n",
            "Join on Multiple Columns (Employee_ID):\n",
            "   Employee_ID   Name Department  Salary\n",
            "0            1   John         HR   50000\n",
            "1            2  Alice    Finance   60000\n"
          ]
        }
      ]
    },
    {
      "cell_type": "markdown",
      "source": [
        "Filtering and Sorting"
      ],
      "metadata": {
        "id": "P1Rhd2W4A-TG"
      }
    },
    {
      "cell_type": "code",
      "source": [
        "import pandas as pd"
      ],
      "metadata": {
        "id": "eJW62OT6BEE4"
      },
      "execution_count": null,
      "outputs": []
    },
    {
      "cell_type": "code",
      "source": [
        "# Sample DataFrame\n",
        "data = {\n",
        "    'Name': ['Alice', 'Bob', 'Charlie', 'David', 'Eva'],\n",
        "    'Age': [25, 30, 35, 40, 28],\n",
        "    'City': ['New York', 'Los Angeles', 'Chicago', 'Houston', 'Phoenix'],\n",
        "    'Salary': [50000, 60000, 55000, 70000, 52000]\n",
        "}\n",
        "\n",
        "df = pd.DataFrame(data)"
      ],
      "metadata": {
        "id": "k5PhqkO6BNfA"
      },
      "execution_count": null,
      "outputs": []
    },
    {
      "cell_type": "code",
      "source": [
        "# Filtering: Select rows where Age is greater than 30\n",
        "filtered_df = df[df['Age'] > 30]\n",
        "\n",
        "# Sorting: Sort the filtered data by Salary in descending order\n",
        "sorted_df = filtered_df.sort_values(by='Salary', ascending=False)\n",
        "\n",
        "# Display the original, filtered, and sorted DataFrames\n",
        "print(\"Original DataFrame:\")\n",
        "print(df)\n",
        "print(\"\\nFiltered DataFrame (Age > 30):\")\n",
        "print(filtered_df)\n",
        "print(\"\\nSorted DataFrame (by Salary, descending):\")\n",
        "print(sorted_df)"
      ],
      "metadata": {
        "colab": {
          "base_uri": "https://localhost:8080/"
        },
        "id": "WHO4jnTPBO8v",
        "outputId": "b465eec8-c384-4d8a-a036-7855f0954e31"
      },
      "execution_count": null,
      "outputs": [
        {
          "output_type": "stream",
          "name": "stdout",
          "text": [
            "Original DataFrame:\n",
            "      Name  Age         City  Salary\n",
            "0    Alice   25     New York   50000\n",
            "1      Bob   30  Los Angeles   60000\n",
            "2  Charlie   35      Chicago   55000\n",
            "3    David   40      Houston   70000\n",
            "4      Eva   28      Phoenix   52000\n",
            "\n",
            "Filtered DataFrame (Age > 30):\n",
            "      Name  Age     City  Salary\n",
            "2  Charlie   35  Chicago   55000\n",
            "3    David   40  Houston   70000\n",
            "\n",
            "Sorted DataFrame (by Salary, descending):\n",
            "      Name  Age     City  Salary\n",
            "3    David   40  Houston   70000\n",
            "2  Charlie   35  Chicago   55000\n"
          ]
        }
      ]
    },
    {
      "cell_type": "markdown",
      "source": [
        "Handling CSV and Excel files"
      ],
      "metadata": {
        "id": "pbA-vyyDB1Mw"
      }
    },
    {
      "cell_type": "code",
      "source": [
        "import pandas as pd"
      ],
      "metadata": {
        "id": "H0digcGxCAwM"
      },
      "execution_count": null,
      "outputs": []
    },
    {
      "cell_type": "code",
      "source": [
        "data = {\n",
        "    'Product': ['A', 'B', 'A', 'B', 'C', 'A', 'C'],\n",
        "    'Region': ['East', 'West', 'East', 'West', 'East', 'West', 'East'],\n",
        "    'Salesperson': ['John', 'Paul', 'John', 'Paul', 'George', 'Ringo', 'George'],\n",
        "    'Sales': [250, 300, 150, 200, 450, 500, 550]\n",
        "}\n",
        "\n",
        "df = pd.DataFrame(data)"
      ],
      "metadata": {
        "id": "UykcRpESCTMm"
      },
      "execution_count": null,
      "outputs": []
    },
    {
      "cell_type": "code",
      "source": [
        "# Reading a CSV file\n",
        "csv_file_path = 'sample_data.csv'  # Replace with your CSV file path\n",
        "csv_data = pd.read_csv(csv_file_path)\n",
        "print(csv_data.iloc[:5,:4])"
      ],
      "metadata": {
        "id": "NqXhpJFYDtTE",
        "outputId": "d1438f04-e07a-455d-a187-723ee4cf3b0f",
        "colab": {
          "base_uri": "https://localhost:8080/"
        }
      },
      "execution_count": null,
      "outputs": [
        {
          "output_type": "stream",
          "name": "stdout",
          "text": [
            "   Index      Customer Id First Name Last Name\n",
            "0      1  DD37Cf93aecA6Dc     Sheryl    Baxter\n",
            "1      2  1Ef7b82A4CAAD10    Preston    Lozano\n",
            "2      3  6F94879bDAfE5a6        Roy     Berry\n",
            "3      4  5Cef8BFA16c5e3c      Linda     Olsen\n",
            "4      5  053d585Ab6b3159     Joanna    Bender\n"
          ]
        }
      ]
    },
    {
      "cell_type": "code",
      "source": [
        "excel_file_path = 'excel_sample.xls'  # Replace with your CSV file path\n",
        "excel_data = pd.read_excel(excel_file_path)\n",
        "print(excel_data.iloc[:5,:4])"
      ],
      "metadata": {
        "colab": {
          "base_uri": "https://localhost:8080/"
        },
        "id": "2S1ilb3TwJsk",
        "outputId": "0793d1a1-438f-4207-ce8a-df44d83ed29e"
      },
      "execution_count": null,
      "outputs": [
        {
          "output_type": "stream",
          "name": "stdout",
          "text": [
            "   0 First Name  Last Name  Gender\n",
            "0  1      Dulce      Abril  Female\n",
            "1  2       Mara  Hashimoto  Female\n",
            "2  3     Philip       Gent    Male\n",
            "3  4   Kathleen     Hanner  Female\n",
            "4  5    Nereida    Magwood  Female\n"
          ]
        }
      ]
    },
    {
      "cell_type": "markdown",
      "source": [
        "Advanced Data Manipulations\n",
        "\n",
        "Work with pivot tables, multi-indexing, and reshaping.\n",
        "\n"
      ],
      "metadata": {
        "id": "cG66ktBFwk9s"
      }
    },
    {
      "cell_type": "code",
      "source": [
        "#Create a Pivot Table\n",
        "print(pd.pivot_table(df,values=\"Salary\",index=\"Age\",aggfunc=\"max\"))"
      ],
      "metadata": {
        "colab": {
          "base_uri": "https://localhost:8080/"
        },
        "id": "FY3Yxm--wsOH",
        "outputId": "b9757b73-ccd1-4eaa-8255-b5d63ac65a7e"
      },
      "execution_count": null,
      "outputs": [
        {
          "output_type": "stream",
          "name": "stdout",
          "text": [
            "     Salary\n",
            "Age        \n",
            "25    50000\n",
            "28    52000\n",
            "30    60000\n",
            "35    55000\n",
            "40    70000\n"
          ]
        }
      ]
    },
    {
      "cell_type": "code",
      "source": [
        "#Create a Multi-Index DataFrame\n",
        "de=pd.DataFrame([x for x in \"ABCDEF\"],index=[1,1,1,2,2,3])\n",
        "print(de)"
      ],
      "metadata": {
        "colab": {
          "base_uri": "https://localhost:8080/"
        },
        "id": "FjXQTU33xHFC",
        "outputId": "33bf81d3-3ee4-4fbf-81e1-b77c16591bc7"
      },
      "execution_count": null,
      "outputs": [
        {
          "output_type": "stream",
          "name": "stdout",
          "text": [
            "   0\n",
            "1  A\n",
            "1  B\n",
            "1  C\n",
            "2  D\n",
            "2  E\n",
            "3  F\n"
          ]
        }
      ]
    },
    {
      "cell_type": "code",
      "source": [
        "#Accessing Data in a Multi-Index DataFrame\n",
        "print(de.loc[1])"
      ],
      "metadata": {
        "colab": {
          "base_uri": "https://localhost:8080/"
        },
        "id": "5PJbmbk6xO5w",
        "outputId": "9961c8bc-5935-4e10-88a4-4db97a4776ea"
      },
      "execution_count": null,
      "outputs": [
        {
          "output_type": "stream",
          "name": "stdout",
          "text": [
            "   0\n",
            "1  A\n",
            "1  B\n",
            "1  C\n"
          ]
        }
      ]
    },
    {
      "cell_type": "code",
      "source": [
        "#Using melt() to Unpivot Data\n",
        "melted=pd.melt(df, id_vars=[\"Name\", \"City\"], value_vars=[\"Salary\", \"Age\"], var_name=\"Metric\", value_name=\"Value\")\n",
        "print(melted)"
      ],
      "metadata": {
        "colab": {
          "base_uri": "https://localhost:8080/"
        },
        "id": "XpOiLk99xT3y",
        "outputId": "dc3266fe-32d5-4fcb-9bfc-671e869bad64"
      },
      "execution_count": null,
      "outputs": [
        {
          "output_type": "stream",
          "name": "stdout",
          "text": [
            "      Name         City  Metric  Value\n",
            "0    Alice     New York  Salary  50000\n",
            "1      Bob  Los Angeles  Salary  60000\n",
            "2  Charlie      Chicago  Salary  55000\n",
            "3    David      Houston  Salary  70000\n",
            "4      Eva      Phoenix  Salary  52000\n",
            "5    Alice     New York     Age     25\n",
            "6      Bob  Los Angeles     Age     30\n",
            "7  Charlie      Chicago     Age     35\n",
            "8    David      Houston     Age     40\n",
            "9      Eva      Phoenix     Age     28\n"
          ]
        }
      ]
    }
  ]
}