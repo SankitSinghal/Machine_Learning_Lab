{
  "nbformat": 4,
  "nbformat_minor": 0,
  "metadata": {
    "colab": {
      "provenance": [],
      "authorship_tag": "ABX9TyMXKAKhsspBfOmSNqpS8BXI",
      "include_colab_link": true
    },
    "kernelspec": {
      "name": "python3",
      "display_name": "Python 3"
    },
    "language_info": {
      "name": "python"
    }
  },
  "cells": [
    {
      "cell_type": "markdown",
      "metadata": {
        "id": "view-in-github",
        "colab_type": "text"
      },
      "source": [
        "<a href=\"https://colab.research.google.com/github/SankitSinghal/Machine-Learning-project/blob/main/Experiment_2(ML).ipynb\" target=\"_parent\"><img src=\"https://colab.research.google.com/assets/colab-badge.svg\" alt=\"Open In Colab\"/></a>"
      ]
    },
    {
      "cell_type": "markdown",
      "source": [
        "Experiment 2 :  Experiment with Following NumPy Operations through Python Commands"
      ],
      "metadata": {
        "id": "W25YmpLV97RJ"
      }
    },
    {
      "cell_type": "markdown",
      "source": [
        "2.1. Create Arrays Using Different Methods"
      ],
      "metadata": {
        "id": "zgvGDTvx-GqO"
      }
    },
    {
      "cell_type": "code",
      "execution_count": null,
      "metadata": {
        "id": "Oe-PdOFB9RLK"
      },
      "outputs": [],
      "source": [
        "import numpy as np"
      ]
    },
    {
      "cell_type": "code",
      "source": [
        "#Creating array using array() function\n",
        "arr1=np.array([1,2,3,4,5])\n",
        "print(arr1)"
      ],
      "metadata": {
        "colab": {
          "base_uri": "https://localhost:8080/"
        },
        "id": "SsGB6bqK-S7P",
        "outputId": "55eb3ce7-ff77-4c63-bf12-dee45de30ac9"
      },
      "execution_count": null,
      "outputs": [
        {
          "output_type": "stream",
          "name": "stdout",
          "text": [
            "[1 2 3 4 5]\n"
          ]
        }
      ]
    },
    {
      "cell_type": "code",
      "source": [
        "#Creating array using zeros() function\n",
        "arr2=np.zeros(4)\n",
        "print(arr2)"
      ],
      "metadata": {
        "colab": {
          "base_uri": "https://localhost:8080/"
        },
        "id": "D9l2Y8pr-WC1",
        "outputId": "140e83ea-da70-46ce-fdfe-caef965455da"
      },
      "execution_count": null,
      "outputs": [
        {
          "output_type": "stream",
          "name": "stdout",
          "text": [
            "[0. 0. 0. 0.]\n"
          ]
        }
      ]
    },
    {
      "cell_type": "code",
      "source": [
        "#Creating array using ones() function\n",
        "arr3=np.ones((3,4))\n",
        "print(arr3)"
      ],
      "metadata": {
        "colab": {
          "base_uri": "https://localhost:8080/"
        },
        "id": "H0LfSVdD-yri",
        "outputId": "3605971a-52d5-4982-a970-07a29d985ddb"
      },
      "execution_count": null,
      "outputs": [
        {
          "output_type": "stream",
          "name": "stdout",
          "text": [
            "[[1. 1. 1. 1.]\n",
            " [1. 1. 1. 1.]\n",
            " [1. 1. 1. 1.]]\n"
          ]
        }
      ]
    },
    {
      "cell_type": "code",
      "source": [
        "#Creating array using arange() function\n",
        "arr4=np.arange(0,10,1)\n",
        "print(arr4)"
      ],
      "metadata": {
        "colab": {
          "base_uri": "https://localhost:8080/"
        },
        "id": "Ie6WqCkf-2Yh",
        "outputId": "3c024db2-b8ac-4df9-f039-d7d92bdc128c"
      },
      "execution_count": null,
      "outputs": [
        {
          "output_type": "stream",
          "name": "stdout",
          "text": [
            "[0 1 2 3 4 5 6 7 8 9]\n"
          ]
        }
      ]
    },
    {
      "cell_type": "code",
      "source": [
        "#Creating array using linspace() function\n",
        "arr5=np.linspace(1,100,10)\n",
        "print(arr5)"
      ],
      "metadata": {
        "colab": {
          "base_uri": "https://localhost:8080/"
        },
        "id": "ZEjuK-8g-46M",
        "outputId": "2fb40519-48c8-4a35-f648-ae89fa11c21e"
      },
      "execution_count": null,
      "outputs": [
        {
          "output_type": "stream",
          "name": "stdout",
          "text": [
            "[  1.  12.  23.  34.  45.  56.  67.  78.  89. 100.]\n"
          ]
        }
      ]
    },
    {
      "cell_type": "code",
      "source": [
        "#Creating array using identity() function\n",
        "arr6=np.identity(3)\n",
        "print(arr6)"
      ],
      "metadata": {
        "colab": {
          "base_uri": "https://localhost:8080/"
        },
        "id": "JrPTpMlG-8os",
        "outputId": "62931808-0224-419f-d2a7-16f72096543b"
      },
      "execution_count": null,
      "outputs": [
        {
          "output_type": "stream",
          "name": "stdout",
          "text": [
            "[[1. 0. 0.]\n",
            " [0. 1. 0.]\n",
            " [0. 0. 1.]]\n"
          ]
        }
      ]
    },
    {
      "cell_type": "code",
      "source": [
        "#Creating array using full() function\n",
        "arr7=np.full((2,3),3)\n",
        "print(arr7)"
      ],
      "metadata": {
        "colab": {
          "base_uri": "https://localhost:8080/"
        },
        "id": "N4Y-xjy8-_bS",
        "outputId": "7aa0eda5-6c85-4710-d4e1-70e3ab196c78"
      },
      "execution_count": null,
      "outputs": [
        {
          "output_type": "stream",
          "name": "stdout",
          "text": [
            "[[3 3 3]\n",
            " [3 3 3]]\n"
          ]
        }
      ]
    },
    {
      "cell_type": "markdown",
      "source": [
        "2.2 Array Indexing and Slicing"
      ],
      "metadata": {
        "id": "VBbRCy8o_Box"
      }
    },
    {
      "cell_type": "code",
      "source": [
        "#Creating a array\n",
        "a=np.array([[1,2,3],[4,5,6],[7,8,9]])\n",
        "print(a)"
      ],
      "metadata": {
        "colab": {
          "base_uri": "https://localhost:8080/"
        },
        "id": "W6xQI2KL_Hax",
        "outputId": "539632a5-abee-4818-8930-0738075649a2"
      },
      "execution_count": null,
      "outputs": [
        {
          "output_type": "stream",
          "name": "stdout",
          "text": [
            "[[1 2 3]\n",
            " [4 5 6]\n",
            " [7 8 9]]\n"
          ]
        }
      ]
    },
    {
      "cell_type": "code",
      "source": [
        "#Basic Indexing in array\n",
        "print(\"a[0,2]=\",a[0,2])\n",
        "print(\"a[2,1]=\",a[2,1])"
      ],
      "metadata": {
        "colab": {
          "base_uri": "https://localhost:8080/"
        },
        "id": "pic8gwnx_Rmw",
        "outputId": "1ccc637a-9ebc-4457-92da-dcd5772b9e3b"
      },
      "execution_count": null,
      "outputs": [
        {
          "output_type": "stream",
          "name": "stdout",
          "text": [
            "a[0,2]= 3\n",
            "a[2,1]= 8\n"
          ]
        }
      ]
    },
    {
      "cell_type": "code",
      "source": [
        "#Negative Indexing in array\n",
        "print(\"a[-1,-2] =\",a[-1,-2])\n",
        "print(\"a[-3] =\",a[-3])"
      ],
      "metadata": {
        "colab": {
          "base_uri": "https://localhost:8080/"
        },
        "id": "ukOoWjFc_Uxx",
        "outputId": "cbdae7f7-92fe-400b-af29-da53d5368c22"
      },
      "execution_count": null,
      "outputs": [
        {
          "output_type": "stream",
          "name": "stdout",
          "text": [
            "a[-1,-2] = 8\n",
            "a[-3] = [1 2 3]\n"
          ]
        }
      ]
    },
    {
      "cell_type": "code",
      "source": [
        "#Slicing in array\n",
        "print(\"Last 2 rows and last two columns\\n\",a[1:,1:])\n",
        "print(\"All rows and 1st and 3rd column\\n\",a[:,[0,2]])"
      ],
      "metadata": {
        "colab": {
          "base_uri": "https://localhost:8080/"
        },
        "id": "RsDKMg7q_XfK",
        "outputId": "637ccc01-34bf-4e0c-b469-59eb73d7eb97"
      },
      "execution_count": null,
      "outputs": [
        {
          "output_type": "stream",
          "name": "stdout",
          "text": [
            "Last 2 rows and last two columns\n",
            " [[5 6]\n",
            " [8 9]]\n",
            "All rows and 1st and 3rd column\n",
            " [[1 3]\n",
            " [4 6]\n",
            " [7 9]]\n"
          ]
        }
      ]
    },
    {
      "cell_type": "code",
      "source": [
        "#Boolean indexing in array\n",
        "print(\"Elements greater than 5: \",a[a>5])\n",
        "print(\"Even elements: \",a[a%2==0])"
      ],
      "metadata": {
        "colab": {
          "base_uri": "https://localhost:8080/"
        },
        "id": "pH8991j7_aQO",
        "outputId": "9d7c28de-9e90-42a5-c14a-2ae9bde4f741"
      },
      "execution_count": null,
      "outputs": [
        {
          "output_type": "stream",
          "name": "stdout",
          "text": [
            "Elements greater than 5:  [6 7 8 9]\n",
            "Even elements:  [2 4 6 8]\n"
          ]
        }
      ]
    },
    {
      "cell_type": "markdown",
      "source": [
        "2.3 Mathematical Operations on Array"
      ],
      "metadata": {
        "id": "suSCvGwp_fCj"
      }
    },
    {
      "cell_type": "code",
      "source": [
        "#Creating two arrays\n",
        "a=np.arange(1,11)\n",
        "b=np.linspace(1,100,10)\n",
        "print(\"a =\",a)\n",
        "print(\"b =\",b)"
      ],
      "metadata": {
        "colab": {
          "base_uri": "https://localhost:8080/"
        },
        "id": "hYYzv4Dk_k3C",
        "outputId": "36e3c1a7-b891-4c6e-b572-7835c8cee7fb"
      },
      "execution_count": null,
      "outputs": [
        {
          "output_type": "stream",
          "name": "stdout",
          "text": [
            "a = [ 1  2  3  4  5  6  7  8  9 10]\n",
            "b = [  1.  12.  23.  34.  45.  56.  67.  78.  89. 100.]\n"
          ]
        }
      ]
    },
    {
      "cell_type": "code",
      "source": [
        "#Element-Wise Arithmetic Operations\n",
        "print(\"Sum (a+b): \",a+b)\n",
        "print(\"Subtraction by 5 (a-5): \",a-5)\n",
        "print(\"Multiplication (axb): \",a*b)\n",
        "print(\"Division by 2 (a/2): \",a/2)"
      ],
      "metadata": {
        "colab": {
          "base_uri": "https://localhost:8080/"
        },
        "id": "xvuSkltx_oF2",
        "outputId": "275ebcab-37ec-4286-c02e-8e0593d9b1e1"
      },
      "execution_count": null,
      "outputs": [
        {
          "output_type": "stream",
          "name": "stdout",
          "text": [
            "Sum (a+b):  [  2.  14.  26.  38.  50.  62.  74.  86.  98. 110.]\n",
            "Subtraction by 5 (a-5):  [-4 -3 -2 -1  0  1  2  3  4  5]\n",
            "Multiplication (axb):  [   1.   24.   69.  136.  225.  336.  469.  624.  801. 1000.]\n",
            "Division by 2 (a/2):  [0.5 1.  1.5 2.  2.5 3.  3.5 4.  4.5 5. ]\n"
          ]
        }
      ]
    },
    {
      "cell_type": "code",
      "source": [
        "#Aggregate Functions\n",
        "print(\"Sum: \",a.sum())\n",
        "print(\"Mean: \",a.mean())\n",
        "print(\"Standard Deviation: \",a.std())\n",
        "print(\"Maximum: \",a.max())"
      ],
      "metadata": {
        "colab": {
          "base_uri": "https://localhost:8080/"
        },
        "id": "m97LoGQH_uaE",
        "outputId": "6d4fbb14-1256-4139-e51a-5823bc9e3719"
      },
      "execution_count": null,
      "outputs": [
        {
          "output_type": "stream",
          "name": "stdout",
          "text": [
            "Sum:  55\n",
            "Mean:  5.5\n",
            "Standard Deviation:  2.8722813232690143\n",
            "Maximum:  10\n"
          ]
        }
      ]
    },
    {
      "cell_type": "code",
      "source": [
        "#Element-Wise Mathematical Functions\n",
        "print(\"Sin(a): \",np.sin(a).round(2))\n",
        "print(\"Sqrt(a): \",np.sqrt(a).round(2))\n",
        "print(\"Log(a): \",np.log(a).round(2))"
      ],
      "metadata": {
        "colab": {
          "base_uri": "https://localhost:8080/"
        },
        "id": "_Pph8ClG_xDY",
        "outputId": "aa0f21ea-de28-4066-cb92-60323072bb57"
      },
      "execution_count": null,
      "outputs": [
        {
          "output_type": "stream",
          "name": "stdout",
          "text": [
            "Sin(a):  [ 0.84  0.91  0.14 -0.76 -0.96 -0.28  0.66  0.99  0.41 -0.54]\n",
            "Sqrt(a):  [1.   1.41 1.73 2.   2.24 2.45 2.65 2.83 3.   3.16]\n",
            "Log(a):  [0.   0.69 1.1  1.39 1.61 1.79 1.95 2.08 2.2  2.3 ]\n"
          ]
        }
      ]
    },
    {
      "cell_type": "markdown",
      "source": [
        "2.4 Matrix Operations"
      ],
      "metadata": {
        "id": "ZGTDBJ93_1FQ"
      }
    },
    {
      "cell_type": "code",
      "source": [
        "#Creating two matrix\n",
        "a=np.array([[1,2,3],[4,5,6],[7,8,9]])\n",
        "b=np.array([[-2,-3,-1],[-3,4,6],[0,0,1]])\n",
        "print(a)\n",
        "print(b)"
      ],
      "metadata": {
        "colab": {
          "base_uri": "https://localhost:8080/"
        },
        "id": "JXhtW1dr_5sH",
        "outputId": "943d7d92-37f0-43c4-8abd-674e26921bfe"
      },
      "execution_count": null,
      "outputs": [
        {
          "output_type": "stream",
          "name": "stdout",
          "text": [
            "[[1 2 3]\n",
            " [4 5 6]\n",
            " [7 8 9]]\n",
            "[[-2 -3 -1]\n",
            " [-3  4  6]\n",
            " [ 0  0  1]]\n"
          ]
        }
      ]
    },
    {
      "cell_type": "code",
      "source": [
        "#Matrix multiplication\n",
        "print(np.dot(a,b))"
      ],
      "metadata": {
        "colab": {
          "base_uri": "https://localhost:8080/"
        },
        "id": "1-k0_sSQ_9xD",
        "outputId": "a0f241c9-c2fe-468b-ae9e-49e59c772d3c"
      },
      "execution_count": null,
      "outputs": [
        {
          "output_type": "stream",
          "name": "stdout",
          "text": [
            "[[ -8   5  14]\n",
            " [-23   8  32]\n",
            " [-38  11  50]]\n"
          ]
        }
      ]
    },
    {
      "cell_type": "code",
      "source": [
        "#Transpose of a matrix\n",
        "print(a.transpose())"
      ],
      "metadata": {
        "colab": {
          "base_uri": "https://localhost:8080/"
        },
        "id": "7VvIzyiSAAta",
        "outputId": "79620281-bb8f-4acc-8f94-d9c663eb5b82"
      },
      "execution_count": null,
      "outputs": [
        {
          "output_type": "stream",
          "name": "stdout",
          "text": [
            "[[1 4 7]\n",
            " [2 5 8]\n",
            " [3 6 9]]\n"
          ]
        }
      ]
    },
    {
      "cell_type": "markdown",
      "source": [
        "2.5 Generate Random Data and Perform Distribution operation"
      ],
      "metadata": {
        "id": "9Vp16ni_AGHN"
      }
    },
    {
      "cell_type": "code",
      "source": [
        "#Random Numbers between 0 and 1\n",
        "a=np.random.rand(3,4)\n",
        "print(a.round(3))"
      ],
      "metadata": {
        "colab": {
          "base_uri": "https://localhost:8080/"
        },
        "id": "E8qqZv8pAUQJ",
        "outputId": "8e2683e0-cef7-4f4b-d324-c1bc46bc300c"
      },
      "execution_count": null,
      "outputs": [
        {
          "output_type": "stream",
          "name": "stdout",
          "text": [
            "[[0.105 0.855 0.414 0.021]\n",
            " [0.336 0.771 0.495 0.174]\n",
            " [0.88  0.877 0.523 0.367]]\n"
          ]
        }
      ]
    },
    {
      "cell_type": "code",
      "source": [
        "#Random Numbers between a range\n",
        "a=np.random.randint(10,40,size=(2,3))\n",
        "print(a)"
      ],
      "metadata": {
        "colab": {
          "base_uri": "https://localhost:8080/"
        },
        "id": "6ZkJkoGBAXOj",
        "outputId": "801e198c-61a6-498e-b296-31c4f43938c4"
      },
      "execution_count": null,
      "outputs": [
        {
          "output_type": "stream",
          "name": "stdout",
          "text": [
            "[[22 12 11]\n",
            " [36 21 27]]\n"
          ]
        }
      ]
    },
    {
      "cell_type": "code",
      "source": [
        "#Generate values from a normal distribution\n",
        "a=np.random.normal(loc=1,scale=2,size=(4,3))\n",
        "print(a)"
      ],
      "metadata": {
        "colab": {
          "base_uri": "https://localhost:8080/"
        },
        "id": "tW99WsvCAaRv",
        "outputId": "ff06a7fd-2204-475e-dc2b-9a40d7c886cf"
      },
      "execution_count": null,
      "outputs": [
        {
          "output_type": "stream",
          "name": "stdout",
          "text": [
            "[[ 3.81296262  2.17381329  2.72973541]\n",
            " [-1.02339402  3.38973143  4.33827641]\n",
            " [ 3.87720452  1.75237344  1.72122304]\n",
            " [ 1.4937439   3.42320598  2.86759468]]\n"
          ]
        }
      ]
    },
    {
      "cell_type": "code",
      "source": [
        "#Generate random values from a uniform distribution\n",
        "a=np.random.uniform(low=5,high=20,size=5)\n",
        "print(a)"
      ],
      "metadata": {
        "colab": {
          "base_uri": "https://localhost:8080/"
        },
        "id": "8wd3KSq6Akq2",
        "outputId": "f05c9a00-5329-40ef-c298-cba27f92ab65"
      },
      "execution_count": null,
      "outputs": [
        {
          "output_type": "stream",
          "name": "stdout",
          "text": [
            "[ 9.28730371 11.87860437 14.08002139 12.89171296  5.91713161]\n"
          ]
        }
      ]
    },
    {
      "cell_type": "code",
      "source": [
        "#Plot the histogram\n",
        "import matplotlib.pyplot as plt\n",
        "temp=np.random.normal(loc=10,scale=30,size=1000)\n",
        "plt.hist(temp,bins=100,color=\"black\")\n",
        "plt.show()"
      ],
      "metadata": {
        "colab": {
          "base_uri": "https://localhost:8080/",
          "height": 430
        },
        "id": "0J-6icZuAnZY",
        "outputId": "797cba99-fa92-4247-c3d4-f650cfee5a94"
      },
      "execution_count": null,
      "outputs": [
        {
          "output_type": "display_data",
          "data": {
            "text/plain": [
              "<Figure size 640x480 with 1 Axes>"
            ],
            "image/png": "[encoded data removed]"
          },
          "metadata": {}
        }
      ]
    },
    {
      "cell_type": "markdown",
      "source": [
        "2.6 Linear Algebra Operation"
      ],
      "metadata": {
        "id": "LWG-rer2AqBN"
      }
    },
    {
      "cell_type": "markdown",
      "source": [],
      "metadata": {
        "id": "jgikn_Tf96Us"
      }
    },
    {
      "cell_type": "code",
      "source": [
        "#Creating a matrix\n",
        "q=np.array([[1,-2,0],[2,-3,-1],[0,7,4]])\n",
        "print(q)"
      ],
      "metadata": {
        "colab": {
          "base_uri": "https://localhost:8080/"
        },
        "id": "drBNX1q1Atcf",
        "outputId": "3df53dae-4d2b-4182-c5a5-f2ad1722cc1d"
      },
      "execution_count": null,
      "outputs": [
        {
          "output_type": "stream",
          "name": "stdout",
          "text": [
            "[[ 1 -2  0]\n",
            " [ 2 -3 -1]\n",
            " [ 0  7  4]]\n"
          ]
        }
      ]
    },
    {
      "cell_type": "code",
      "source": [
        "#Determinant of a matrix\n",
        "print(np.linalg.det(q))"
      ],
      "metadata": {
        "colab": {
          "base_uri": "https://localhost:8080/"
        },
        "id": "ysO4oOqqAzCV",
        "outputId": "7854910d-daac-45b5-f612-3c5f51c53919"
      },
      "execution_count": null,
      "outputs": [
        {
          "output_type": "stream",
          "name": "stdout",
          "text": [
            "10.999999999999996\n"
          ]
        }
      ]
    },
    {
      "cell_type": "code",
      "source": [
        "#Matrix Inversion\n",
        "print(np.linalg.inv(q))"
      ],
      "metadata": {
        "colab": {
          "base_uri": "https://localhost:8080/"
        },
        "id": "1xw0vKxSA1rD",
        "outputId": "aa97f7db-b7de-4af7-89bc-dd3b40f077b5"
      },
      "execution_count": null,
      "outputs": [
        {
          "output_type": "stream",
          "name": "stdout",
          "text": [
            "[[-0.45454545  0.72727273  0.18181818]\n",
            " [-0.72727273  0.36363636  0.09090909]\n",
            " [ 1.27272727 -0.63636364  0.09090909]]\n"
          ]
        }
      ]
    },
    {
      "cell_type": "code",
      "source": [
        "#Eigenvalues and eigenvectors\n",
        "val,vec=np.linalg.eig(b)\n",
        "print(\"Eigenvalue: \",val.round(2))\n",
        "print(\"Eigenvector: \\n\",vec.round(2))"
      ],
      "metadata": {
        "colab": {
          "base_uri": "https://localhost:8080/"
        },
        "id": "Vfc74X2KA2R4",
        "outputId": "b49ccc50-4553-4390-b8be-d5d4d06c2dc3"
      },
      "execution_count": null,
      "outputs": [
        {
          "output_type": "stream",
          "name": "stdout",
          "text": [
            "Eigenvalue:  [-3.24  5.24  1.  ]\n",
            "Eigenvector: \n",
            " [[-0.92  0.38  0.48]\n",
            " [-0.38 -0.92 -0.67]\n",
            " [ 0.    0.    0.57]]\n"
          ]
        }
      ]
    },
    {
      "cell_type": "code",
      "source": [
        "#solve linear equations of the form Ax = B\n",
        "#2x+3y=8 and x-y=2\n",
        "A=np.array([[2,3],[1,-1]])\n",
        "B=np.array([[8],[2]])\n",
        "print(np.linalg.solve(A,B))"
      ],
      "metadata": {
        "colab": {
          "base_uri": "https://localhost:8080/"
        },
        "id": "fJQMeAShA7Ps",
        "outputId": "a8f4270b-8072-47ea-94ef-3d2b1c02668e"
      },
      "execution_count": null,
      "outputs": [
        {
          "output_type": "stream",
          "name": "stdout",
          "text": [
            "[[2.8]\n",
            " [0.8]]\n"
          ]
        }
      ]
    },
    {
      "cell_type": "markdown",
      "source": [
        "2.7 Correlation and Covariance Computation"
      ],
      "metadata": {
        "id": "DtoShUJmA74n"
      }
    },
    {
      "cell_type": "code",
      "source": [
        "#Creating two arrays\n",
        "a=np.array([1,23,45,67,90])\n",
        "b=np.array([10,8,-23,-46,-70])\n",
        "print(a)\n",
        "print(b)"
      ],
      "metadata": {
        "colab": {
          "base_uri": "https://localhost:8080/"
        },
        "id": "VWZzMXANBClM",
        "outputId": "df587686-cba0-4da6-d85d-774facd9834d"
      },
      "execution_count": null,
      "outputs": [
        {
          "output_type": "stream",
          "name": "stdout",
          "text": [
            "[ 1 23 45 67 90]\n",
            "[ 10   8 -23 -46 -70]\n"
          ]
        }
      ]
    },
    {
      "cell_type": "code",
      "source": [
        "#Compute covariance matrix\n",
        "m=np.cov(a,b)\n",
        "print(\"Covariance Matrix\\n\",m)\n",
        "print(\"Covariance: \",m[0,1])"
      ],
      "metadata": {
        "colab": {
          "base_uri": "https://localhost:8080/"
        },
        "id": "syOQv1CGBJ4M",
        "outputId": "dca5cda4-dcc7-44b8-e026-1695a66bfb12"
      },
      "execution_count": null,
      "outputs": [
        {
          "output_type": "stream",
          "name": "stdout",
          "text": [
            "Covariance Matrix\n",
            " [[ 1232.2  -1188.45]\n",
            " [-1188.45  1195.2 ]]\n",
            "Covariance:  -1188.45\n"
          ]
        }
      ]
    },
    {
      "cell_type": "code",
      "source": [
        "#Compute correlation matrix\n",
        "m=np.corrcoef(a,b)\n",
        "print(\"Correlation Matrix\\n\", m)\n",
        "print(\"Correlation: \",m[0,1])"
      ],
      "metadata": {
        "colab": {
          "base_uri": "https://localhost:8080/"
        },
        "id": "4JODBU-ABMf1",
        "outputId": "d7efa1ca-f8c1-4d75-e833-c855aad33cdd"
      },
      "execution_count": null,
      "outputs": [
        {
          "output_type": "stream",
          "name": "stdout",
          "text": [
            "Correlation Matrix\n",
            " [[ 1.         -0.97930962]\n",
            " [-0.97930962  1.        ]]\n",
            "Correlation:  -0.9793096195693798\n"
          ]
        }
      ]
    },
    {
      "cell_type": "markdown",
      "source": [
        "2.8 Sort and Search Elements in an Array"
      ],
      "metadata": {
        "id": "xdi9rdGMBTFe"
      }
    },
    {
      "cell_type": "code",
      "source": [
        "#Sort the 1D array\n",
        "a=np.array([23,89,-23,90,-1,0,45])\n",
        "print(\"Sorted array: \",np.sort(a))"
      ],
      "metadata": {
        "colab": {
          "base_uri": "https://localhost:8080/"
        },
        "id": "_MGc2fDMBa_b",
        "outputId": "1e04ef1d-96b6-4f72-e0b2-78b42740ad53"
      },
      "execution_count": null,
      "outputs": [
        {
          "output_type": "stream",
          "name": "stdout",
          "text": [
            "Sorted array:  [-23  -1   0  23  45  89  90]\n"
          ]
        }
      ]
    },
    {
      "cell_type": "code",
      "source": [
        "#Sort the 2D array\n",
        "b=np.array([[3,4,2],[3,-3,2],[1,6,7]])\n",
        "\n",
        "print(\"Original\\n\",b)\n",
        "print(\"Sort along each row\\n\",np.sort(b))\n",
        "print(\"Sort along each column\\n\",np.sort(b,axis=0))"
      ],
      "metadata": {
        "colab": {
          "base_uri": "https://localhost:8080/"
        },
        "id": "AhCxkDn7Bbzu",
        "outputId": "003b1c84-3fcf-4c13-ccdd-4879a1dd72bf"
      },
      "execution_count": null,
      "outputs": [
        {
          "output_type": "stream",
          "name": "stdout",
          "text": [
            "Original\n",
            " [[ 3  4  2]\n",
            " [ 3 -3  2]\n",
            " [ 1  6  7]]\n",
            "Sort along each row\n",
            " [[ 2  3  4]\n",
            " [-3  2  3]\n",
            " [ 1  6  7]]\n",
            "Sort along each column\n",
            " [[ 1 -3  2]\n",
            " [ 3  4  2]\n",
            " [ 3  6  7]]\n"
          ]
        }
      ]
    },
    {
      "cell_type": "code",
      "source": [
        "#Searching using where() function\n",
        "a=np.array([23,89,-23,90,-1,0,45])\n",
        "print(\"Searching for a element: \",np.where(a==-1))\n",
        "print(\"Searching with condition: \",np.where((a>0) & (a%2)))"
      ],
      "metadata": {
        "colab": {
          "base_uri": "https://localhost:8080/"
        },
        "id": "ce6LjCR6Bh1x",
        "outputId": "41265127-6442-45e0-9d1a-8e5f99bf9b36"
      },
      "execution_count": null,
      "outputs": [
        {
          "output_type": "stream",
          "name": "stdout",
          "text": [
            "Searching for a element:  (array([4]),)\n",
            "Searching with condition:  (array([0, 1, 6]),)\n"
          ]
        }
      ]
    }
  ]
}