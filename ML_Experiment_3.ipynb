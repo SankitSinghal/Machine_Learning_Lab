{
  "nbformat": 4,
  "nbformat_minor": 0,
  "metadata": {
    "colab": {
      "provenance": [],
      "authorship_tag": "ABX9TyMZYB1JfoZDghf1iG3XSJa2",
      "include_colab_link": true
    },
    "kernelspec": {
      "name": "python3",
      "display_name": "Python 3"
    },
    "language_info": {
      "name": "python"
    }
  },
  "cells": [
    {
      "cell_type": "markdown",
      "metadata": {
        "id": "view-in-github",
        "colab_type": "text"
      },
      "source": [
        "<a href=\"https://colab.research.google.com/github/SankitSinghal/Machine-Learning-project/blob/main/ML_Experiment_3.ipynb\" target=\"_parent\"><img src=\"https://colab.research.google.com/assets/colab-badge.svg\" alt=\"Open In Colab\"/></a>"
      ]
    },
    {
      "cell_type": "markdown",
      "source": [
        "Experiment 3: Apply various operations on excel file\"Student_list_exp_xlsx\"dataset\n"
      ],
      "metadata": {
        "id": "uxRrqoDChiMc"
      }
    },
    {
      "cell_type": "markdown",
      "source": [
        "Write Python Script to upload the shared Dataset in Python environment."
      ],
      "metadata": {
        "id": "PaBEI-ZEmkwz"
      }
    },
    {
      "cell_type": "code",
      "execution_count": 4,
      "metadata": {
        "id": "07y54D-rhM2-",
        "colab": {
          "base_uri": "https://localhost:8080/"
        },
        "outputId": "25fc38a2-370a-43fd-df94-4882aafed795"
      },
      "outputs": [
        {
          "output_type": "stream",
          "name": "stdout",
          "text": [
            "Printing 5 rows and 3 columns\n",
            "       Semester                           Branch /Course\n",
            "S.No.                                                  \n",
            "NaN        NaN                                      NaN\n",
            "1.0      5CSA1  B.Tech - Computer Science & Engineering\n",
            "2.0      5CSA1  B.Tech - Computer Science & Engineering\n",
            "3.0      5CSA1  B.Tech - Computer Science & Engineering\n",
            "4.0      5CSA1  B.Tech - Computer Science & Engineering\n"
          ]
        }
      ],
      "source": [
        "#Creating DataFrame\n",
        "import pandas as pd\n",
        "import numpy as np\n",
        "df=pd.read_excel(\"/content/sample_data/Student-List-Exp.xlsx\",index_col=\"S.No.\")\n",
        "print(\"Printing 5 rows and 3 columns\\n\",df.iloc[:5,:2])"
      ]
    },
    {
      "cell_type": "markdown",
      "source": [
        "Perform the following Operations on DataSet"
      ],
      "metadata": {
        "id": "Mx1yBCnCoGjK"
      }
    },
    {
      "cell_type": "code",
      "source": [
        "#Rename the columns\n",
        "print(\"Original columns\\n\",df.columns)\n",
        "df.rename(columns={\"Branch /Course\":\"Course\",\"University Registration No. (Issued by R&S Branch)\":\"Registration No.\",\n",
        "                   \"Date of Admission in the Present Class/Course\":\"Admission Date\",\n",
        "                   \"Spelling strictly as per Registration record in Capital Letters (Issued by R&S Branch)-SN\":\"Student Name\",\n",
        "                   \"Spelling strictly as per Registration record in Capital Letters (Issued by R&S Branch)-FN\":\"Fathers Name\",\n",
        "                   \"Aadhaar No. of Student\":\"Aadhaar No.\", \"Updated Mobile No. of Student\":\"Mobile No.\",\"Updated E-mail ID\":\"Email ID\",\n",
        "                   \"Total Due Fee for Current Semester / (Previous semester if pending)\":\"Due Fee\",\n",
        "                   \"Fee Paid for Current Semester / (Previous semester if pending)\":\"Paid Fee\"},inplace=True)\n",
        "print(\"New columns\\n\",df.columns)"
      ],
      "metadata": {
        "colab": {
          "base_uri": "https://localhost:8080/"
        },
        "id": "bzQ-TJNtoHVo",
        "outputId": "7edf92ce-c742-4994-a45b-077e9e98f829"
      },
      "execution_count": 5,
      "outputs": [
        {
          "output_type": "stream",
          "name": "stdout",
          "text": [
            "Original columns\n",
            " Index(['Semester', 'Branch /Course',\n",
            "       'University Registration No. (Issued by R&S Branch)',\n",
            "       'Date of Admission in the Present Class/Course', 'Roll No.',\n",
            "       'Spelling strictly as per Registration record in Capital Letters (Issued by R&S Branch)-SN',\n",
            "       'Spelling strictly as per Registration record in Capital Letters (Issued by R&S Branch)-FN',\n",
            "       'Gender', 'Religion', 'Category', 'Aadhaar No. of Student',\n",
            "       'Updated Mobile No. of Student', 'Updated E-mail ID', 'State',\n",
            "       'Total Due Fee for Current Semester / (Previous semester if pending)',\n",
            "       'Fee Paid for Current Semester / (Previous semester if pending)',\n",
            "       'mentors', 'Unnamed: 18'],\n",
            "      dtype='object')\n",
            "New columns\n",
            " Index(['Semester', 'Course', 'Registration No.', 'Admission Date', 'Roll No.',\n",
            "       'Student Name', 'Fathers Name', 'Gender', 'Religion', 'Category',\n",
            "       'Aadhaar No.', 'Mobile No.', 'Email ID', 'State', 'Due Fee', 'Paid Fee',\n",
            "       'mentors', 'Unnamed: 18'],\n",
            "      dtype='object')\n"
          ]
        }
      ]
    },
    {
      "cell_type": "code",
      "source": [
        "#Count no. of rows and columns\n",
        "print(\"Number of rows: \",len(df))\n",
        "print(\"Number of columns: \",len(df.columns))"
      ],
      "metadata": {
        "colab": {
          "base_uri": "https://localhost:8080/"
        },
        "id": "6qgaMdrSoZVl",
        "outputId": "14684fb7-466a-442a-f6de-b4393d281101"
      },
      "execution_count": 6,
      "outputs": [
        {
          "output_type": "stream",
          "name": "stdout",
          "text": [
            "Number of rows:  63\n",
            "Number of columns:  18\n"
          ]
        }
      ]
    },
    {
      "cell_type": "code",
      "source": [
        "#Count no. of male and female\n",
        "print(\"Number of Male and Female Students\\n\")\n",
        "print(df.groupby(\"Gender\")[\"Gender\"].count())"
      ],
      "metadata": {
        "colab": {
          "base_uri": "https://localhost:8080/"
        },
        "id": "qe-DFTc_odvQ",
        "outputId": "b1a0ddcf-723f-4fb7-870c-55ee7349c155"
      },
      "execution_count": 7,
      "outputs": [
        {
          "output_type": "stream",
          "name": "stdout",
          "text": [
            "Number of Male and Female Students\n",
            "\n",
            "Gender\n",
            "FEMALE           13\n",
            "MALE             48\n",
            "Male / Female     1\n",
            "Name: Gender, dtype: int64\n"
          ]
        }
      ]
    },
    {
      "cell_type": "code",
      "source": [
        "#List Category wise students\n",
        "print(\"Category wise students\\n\")\n",
        "print(df.groupby(\"Category\")[\"Student Name\"].count())"
      ],
      "metadata": {
        "colab": {
          "base_uri": "https://localhost:8080/"
        },
        "id": "Zl2ApV91ol_s",
        "outputId": "61796250-024a-4aa3-d9ff-4bc40cb09f18"
      },
      "execution_count": 8,
      "outputs": [
        {
          "output_type": "stream",
          "name": "stdout",
          "text": [
            "Category wise students\n",
            "\n",
            "Category\n",
            "GENERAL                    48\n",
            "Gen./SC/ST/OBC / Others     1\n",
            "OBC                        13\n",
            "Name: Student Name, dtype: int64\n"
          ]
        }
      ]
    },
    {
      "cell_type": "code",
      "source": [
        "#Count Null values\n",
        "print(df.isnull().sum())\n",
        "print(\"\\nTotal NULL values: \",sum(df.isnull().sum()))"
      ],
      "metadata": {
        "colab": {
          "base_uri": "https://localhost:8080/"
        },
        "id": "96144Nc-oqm6",
        "outputId": "03bb565d-37db-454b-d7a3-4937227e75a3"
      },
      "execution_count": 9,
      "outputs": [
        {
          "output_type": "stream",
          "name": "stdout",
          "text": [
            "Semester             1\n",
            "Course               2\n",
            "Registration No.     2\n",
            "Admission Date       2\n",
            "Roll No.             1\n",
            "Student Name         0\n",
            "Fathers Name         2\n",
            "Gender               1\n",
            "Religion             2\n",
            "Category             1\n",
            "Aadhaar No.          3\n",
            "Mobile No.           2\n",
            "Email ID             2\n",
            "State                3\n",
            "Due Fee              2\n",
            "Paid Fee             4\n",
            "mentors              1\n",
            "Unnamed: 18         62\n",
            "dtype: int64\n",
            "\n",
            "Total NULL values:  93\n"
          ]
        }
      ]
    },
    {
      "cell_type": "code",
      "source": [
        "#List of students for Due Fee\n",
        "print(\"List of students for Due Fee:-\\n\")\n",
        "print(df[df[\"Due Fee\"]!=0].loc[:,\"Student Name\"])"
      ],
      "metadata": {
        "colab": {
          "base_uri": "https://localhost:8080/"
        },
        "id": "MdtOuD9go71S",
        "outputId": "9e216129-1d60-49b1-ac66-bd6fda951d6e"
      },
      "execution_count": 10,
      "outputs": [
        {
          "output_type": "stream",
          "name": "stdout",
          "text": [
            "List of students for Due Fee:-\n",
            "\n",
            "S.No.\n",
            "NaN     Name of Student\n",
            "15.0        HARSH SINGH\n",
            "24.0     ASHUTOSH KUMAR\n",
            "39.0         PIYUSH RAJ\n",
            "62.0         YASH YADAV\n",
            "Name: Student Name, dtype: object\n"
          ]
        }
      ]
    },
    {
      "cell_type": "code",
      "source": [
        "#List of all students where mentor name is Dr INDU KASHYAP\n",
        "print(\"Students with Dr INDU KASHYAP:-\\n\")\n",
        "print(df[df[\"mentors\"]==\"Dr INDU KASHYAP\"].loc[:,\"Student Name\"])"
      ],
      "metadata": {
        "colab": {
          "base_uri": "https://localhost:8080/"
        },
        "id": "beorrLsgo9NF",
        "outputId": "c6268d14-ac88-4b0b-f303-ff56692e6135"
      },
      "execution_count": 11,
      "outputs": [
        {
          "output_type": "stream",
          "name": "stdout",
          "text": [
            "Students with Dr INDU KASHYAP:-\n",
            "\n",
            "S.No.\n",
            "3.0    MANAS RANJAN\n",
            "Name: Student Name, dtype: object\n"
          ]
        }
      ]
    },
    {
      "cell_type": "code",
      "source": [
        "#List of Students where Aadhaar No. is not available\n",
        "print(\"Students with missing Aadhaar No.:-\\n\")\n",
        "print(df[df[\"Aadhaar No.\"]==np.nan].loc[:,\"Student Name\"])"
      ],
      "metadata": {
        "colab": {
          "base_uri": "https://localhost:8080/"
        },
        "id": "H-dyDssmpEyi",
        "outputId": "b3422e3c-fa92-4f12-a33f-65df160a1526"
      },
      "execution_count": 12,
      "outputs": [
        {
          "output_type": "stream",
          "name": "stdout",
          "text": [
            "Students with missing Aadhaar No.:-\n",
            "\n",
            "Series([], Name: Student Name, dtype: object)\n"
          ]
        }
      ]
    },
    {
      "cell_type": "code",
      "source": [
        "#List all the students from Delhi\n",
        "print(\"List all the students from Delhi\\n\")\n",
        "print(df[df[\"State\"]==\"DELHI\"].loc[:,\"Student Name\"])"
      ],
      "metadata": {
        "colab": {
          "base_uri": "https://localhost:8080/"
        },
        "id": "6nqEWKRHpInq",
        "outputId": "99f3c97f-759f-4af8-c4c9-842d11b8ced6"
      },
      "execution_count": 13,
      "outputs": [
        {
          "output_type": "stream",
          "name": "stdout",
          "text": [
            "List all the students from Delhi\n",
            "\n",
            "S.No.\n",
            "4.0        SUMIT KUMAR CHAURASIA\n",
            "9.0           N. JACINTHA JANICE\n",
            "13.0    KRISHAN KANT KANT SHARMA\n",
            "21.0        MAHENDRA SINGH RAWAT\n",
            "26.0                 ARPITHA RAJ\n",
            "28.0                 YASH BABBAR\n",
            "29.0                 SUMIT SINGH\n",
            "30.0             KANISHKA SHARMA\n",
            "33.0               KASHISH GOGIA\n",
            "46.0             SHASHANK PANDEY\n",
            "50.0                  AAKASH RAI\n",
            "59.0               VINAY KHULBEY\n",
            "Name: Student Name, dtype: object\n"
          ]
        }
      ]
    },
    {
      "cell_type": "code",
      "source": [
        "#Extract Specific column Name, Rollno, Mentor\n",
        "print(df[[\"Roll No.\",\"Student Name\",\"mentors\"]])"
      ],
      "metadata": {
        "colab": {
          "base_uri": "https://localhost:8080/"
        },
        "id": "4igjtUDIpNoJ",
        "outputId": "19d04e23-b15a-4e95-feb1-bdaecae91366"
      },
      "execution_count": 14,
      "outputs": [
        {
          "output_type": "stream",
          "name": "stdout",
          "text": [
            "               Roll No.           Student Name                   mentors\n",
            "S.No.                                                                   \n",
            "NaN                 NaN        Name of Student                       NaN\n",
            "1.0    1/22/FET/BCS/002             YASH VERMA           Dr SURESH KUMAR\n",
            "2.0    1/22/FET/BCS/003      KUMARI JAN NASHIN        Ms SAMEEKSHA KHARE\n",
            "3.0    1/22/FET/BCS/004           MANAS RANJAN           Dr INDU KASHYAP\n",
            "4.0    1/22/FET/BCS/005  SUMIT KUMAR CHAURASIA  Dr RAVINDRA KUMAR CHAHAR\n",
            "...                 ...                    ...                       ...\n",
            "58.0   1/22/FET/BCS/063       HANI SINGH RAWAT   Dr URVASHI RAHUL SAXENA\n",
            "59.0   1/22/FET/BCS/064          VINAY KHULBEY                 Dr SAVITA\n",
            "60.0   1/22/FET/BCS/434               Arsh Jha           Dr NITASHA SONI\n",
            "61.0   1/21/FET/BCS/063         HANSHIKA YADAV           Dr SHOBHA TYAGI\n",
            "62.0       12401005M002             YASH YADAV           Dr MAHBOOB ALAM\n",
            "\n",
            "[63 rows x 3 columns]\n"
          ]
        }
      ]
    }
  ]
}